{
  "nbformat": 4,
  "nbformat_minor": 0,
  "metadata": {
    "colab": {
      "provenance": [],
      "gpuType": "T4"
    },
    "kernelspec": {
      "name": "python3",
      "display_name": "Python 3"
    },
    "language_info": {
      "name": "python"
    },
    "accelerator": "GPU"
  },
  "cells": [
    {
      "cell_type": "markdown",
      "source": [
        "###1.From the '360 rocks' folder create a training dataset that has 30 categories and 12 images in each category. To create the categories, group the rocks by name: e.g., one category will be 12 Andesite rocks, another category will be 12 Basalt rocks, etc.  From  '120 rocks' folder create a validation dataset that has 30 categories and 4 images in each category. [10 points]"
      ],
      "metadata": {
        "id": "LhX4fY7XlZOb"
      }
    },
    {
      "cell_type": "code",
      "execution_count": null,
      "metadata": {
        "id": "8xhiUH2Rgn_k"
      },
      "outputs": [],
      "source": [
        "import os\n",
        "import shutil\n",
        "import random\n",
        "\n",
        "\n",
        "rock_folder = \"Rocks/\"\n",
        "\n",
        "\n",
        "rock_names = []\n",
        "\n",
        "\n",
        "for filename in os.listdir(rock_folder):\n",
        "    if filename.endswith(\".jpg\"):\n",
        "\n",
        "        rock_name = filename.split(\"_\")[1]\n",
        "        if rock_name not in rock_names:\n",
        "            rock_names.append(rock_name)\n",
        "\n",
        "\n",
        "categories = random.sample(rock_names, 30)\n",
        "\n",
        "# Create a new folder to store the training dataset\n",
        "output_folder = \"training_set/\"\n",
        "if not os.path.exists(output_folder):\n",
        "    os.makedirs(output_folder)\n",
        "\n",
        "# Copy images to the training dataset folder based on categories\n",
        "for category in categories:\n",
        "    category_folder = os.path.join(output_folder, category)\n",
        "    if not os.path.exists(category_folder):\n",
        "        os.makedirs(category_folder)\n",
        "\n",
        "    # Filter images with the selected category\n",
        "    category_images = [filename for filename in os.listdir(rock_folder) if filename.split(\"_\")[1] == category]\n",
        "\n",
        "    # Randomly select 12 images\n",
        "    selected_images = random.sample(category_images, 12)\n",
        "\n",
        "    # Copy selected images to the category folder\n",
        "    for image in selected_images:\n",
        "        shutil.copyfile(os.path.join(rock_folder, image), os.path.join(category_folder, image))\n"
      ]
    },
    {
      "cell_type": "code",
      "source": [
        "import os\n",
        "import shutil\n",
        "import random\n",
        "\n",
        "# Path to the folder containing the rock images\n",
        "rock_folder = \"Rocks120/\"\n",
        "\n",
        "# Create a list to store unique rock names\n",
        "rock_names = []\n",
        "\n",
        "# Iterate over all files in the folder\n",
        "for filename in os.listdir(rock_folder):\n",
        "    if filename.endswith(\".jpg\"):\n",
        "        # Extract the rock name between the first two underscores\n",
        "        rock_name = filename.split(\"_\")[1]\n",
        "        if rock_name not in rock_names:\n",
        "            rock_names.append(rock_name)\n",
        "\n",
        "# Create 30 categories with 4 images in each category\n",
        "categories = random.sample(rock_names, 30)\n",
        "\n",
        "# Create a new folder to store the validation dataset\n",
        "output_folder = \"validation_set/\"\n",
        "if not os.path.exists(output_folder):\n",
        "    os.makedirs(output_folder)\n",
        "\n",
        "# Copy images to the validation dataset folder based on categories\n",
        "for category in categories:\n",
        "    category_folder = os.path.join(output_folder, category)\n",
        "    if not os.path.exists(category_folder):\n",
        "        os.makedirs(category_folder)\n",
        "\n",
        "    # Filter images with the selected category\n",
        "    category_images = [filename for filename in os.listdir(rock_folder) if filename.split(\"_\")[1] == category]\n",
        "\n",
        "    # Randomly select 4 images\n",
        "    selected_images = random.sample(category_images, 4)\n",
        "\n",
        "    # Copy selected images to the category folder\n",
        "    for image in selected_images:\n",
        "        shutil.copyfile(os.path.join(rock_folder, image), os.path.join(category_folder, image))\n"
      ],
      "metadata": {
        "id": "HNJPvBwthMc1"
      },
      "execution_count": null,
      "outputs": []
    },
    {
      "cell_type": "markdown",
      "source": [
        "###2.Build the input pipeline, including the appropriate preprocessing operations, and add data augmentation."
      ],
      "metadata": {
        "id": "2e_4Yy0ilo5i"
      }
    },
    {
      "cell_type": "code",
      "source": [
        "import tensorflow as tf\n",
        "\n",
        "# Define constants\n",
        "IMAGE_SIZE = (224, 224)\n",
        "BATCH_SIZE = 32\n",
        "NUM_CLASSES = 30\n",
        "NUM_TRAIN_IMAGES = 30 * 12\n",
        "NUM_VAL_IMAGES = 30 * 4\n",
        "\n",
        "# Define the path to the training and validation datasets\n",
        "train_dataset_path = \"training_set/\"\n",
        "val_dataset_path = \"validation_set/\"\n",
        "\n",
        "# Data augmentation operations\n",
        "train_datagen = tf.keras.preprocessing.image.ImageDataGenerator(\n",
        "    rescale=1./255,\n",
        "    rotation_range=20,\n",
        "    width_shift_range=0.2,\n",
        "    height_shift_range=0.2,\n",
        "    shear_range=0.2,\n",
        "    zoom_range=0.2,\n",
        "    horizontal_flip=True,\n",
        "    fill_mode='nearest'\n",
        ")\n",
        "\n",
        "val_datagen = tf.keras.preprocessing.image.ImageDataGenerator(rescale=1./255)\n",
        "\n",
        "# Generate batches of augmented data for training\n",
        "train_generator = train_datagen.flow_from_directory(\n",
        "    train_dataset_path,\n",
        "    target_size=IMAGE_SIZE,\n",
        "    batch_size=BATCH_SIZE,\n",
        "    class_mode='categorical'\n",
        ")\n",
        "\n",
        "# Generate batches of augmented data for validation\n",
        "val_generator = val_datagen.flow_from_directory(\n",
        "    val_dataset_path,\n",
        "    target_size=IMAGE_SIZE,\n",
        "    batch_size=BATCH_SIZE,\n",
        "    class_mode='categorical'\n",
        ")\n",
        "\n",
        "# Build the model\n",
        "model = tf.keras.Sequential([\n",
        "    tf.keras.layers.Conv2D(32, (3, 3), activation='relu', input_shape=(IMAGE_SIZE[0], IMAGE_SIZE[1], 3)),\n",
        "    tf.keras.layers.MaxPooling2D((2, 2)),\n",
        "    tf.keras.layers.Conv2D(64, (3, 3), activation='relu'),\n",
        "    tf.keras.layers.MaxPooling2D((2, 2)),\n",
        "    tf.keras.layers.Conv2D(128, (3, 3), activation='relu'),\n",
        "    tf.keras.layers.MaxPooling2D((2, 2)),\n",
        "    tf.keras.layers.Conv2D(128, (3, 3), activation='relu'),\n",
        "    tf.keras.layers.MaxPooling2D((2, 2)),\n",
        "    tf.keras.layers.Flatten(),\n",
        "    tf.keras.layers.Dense(512, activation='relu'),\n",
        "    tf.keras.layers.Dense(NUM_CLASSES, activation='softmax')\n",
        "])\n",
        "\n",
        "# Compile the model\n",
        "model.compile(optimizer='adam',\n",
        "              loss='categorical_crossentropy',\n",
        "              metrics=['accuracy'])\n",
        "\n",
        "# Train the model\n",
        "history = model.fit(\n",
        "    train_generator,\n",
        "    steps_per_epoch=NUM_TRAIN_IMAGES // BATCH_SIZE,\n",
        "    epochs=10,\n",
        "    validation_data=val_generator,\n",
        "    validation_steps=NUM_VAL_IMAGES // BATCH_SIZE\n",
        ")\n"
      ],
      "metadata": {
        "id": "jCLe8swbhYLu",
        "colab": {
          "base_uri": "https://localhost:8080/"
        },
        "outputId": "f2a383d4-13ce-4df9-8eb2-aa72b990a7e2"
      },
      "execution_count": null,
      "outputs": [
        {
          "output_type": "stream",
          "name": "stdout",
          "text": [
            "Found 360 images belonging to 30 classes.\n",
            "Found 120 images belonging to 30 classes.\n",
            "Epoch 1/10\n",
            "11/11 [==============================] - 14s 590ms/step - loss: 3.5088 - accuracy: 0.0213 - val_loss: 3.3974 - val_accuracy: 0.0521\n",
            "Epoch 2/10\n",
            "11/11 [==============================] - 8s 786ms/step - loss: 3.4008 - accuracy: 0.0640 - val_loss: 3.3931 - val_accuracy: 0.0417\n",
            "Epoch 3/10\n",
            "11/11 [==============================] - 7s 607ms/step - loss: 3.3904 - accuracy: 0.0369 - val_loss: 3.3366 - val_accuracy: 0.0312\n",
            "Epoch 4/10\n",
            "11/11 [==============================] - 8s 700ms/step - loss: 3.3218 - accuracy: 0.0427 - val_loss: 3.3003 - val_accuracy: 0.0312\n",
            "Epoch 5/10\n",
            "11/11 [==============================] - 6s 554ms/step - loss: 3.2978 - accuracy: 0.0762 - val_loss: 3.2787 - val_accuracy: 0.0729\n",
            "Epoch 6/10\n",
            "11/11 [==============================] - 7s 693ms/step - loss: 3.3017 - accuracy: 0.0549 - val_loss: 3.5111 - val_accuracy: 0.0417\n",
            "Epoch 7/10\n",
            "11/11 [==============================] - 7s 673ms/step - loss: 3.2559 - accuracy: 0.0640 - val_loss: 3.2582 - val_accuracy: 0.1146\n",
            "Epoch 8/10\n",
            "11/11 [==============================] - 6s 568ms/step - loss: 3.2157 - accuracy: 0.0732 - val_loss: 3.2219 - val_accuracy: 0.0625\n",
            "Epoch 9/10\n",
            "11/11 [==============================] - 7s 696ms/step - loss: 3.3314 - accuracy: 0.0488 - val_loss: 3.3154 - val_accuracy: 0.0729\n",
            "Epoch 10/10\n",
            "11/11 [==============================] - 6s 570ms/step - loss: 3.2737 - accuracy: 0.0823 - val_loss: 3.1976 - val_accuracy: 0.0938\n"
          ]
        }
      ]
    },
    {
      "cell_type": "markdown",
      "source": [
        "###3.Fine-tune a pretrained neural network of your choice on the training data from the previous step. Before fine-tuning, you should remove the top layer of the pretrained network and add at least two more layers with a softmax activation function (your output layer should have 30 neurons and the layer before the output layer should have 8 neurons). For fine-tuning, you should first train for a few epochs only weights in the layers that you added [5 points], and after that, you should train all the weights [5 points] (you should try to run your code until convergence, but for at least 20 epochs). Display train and validation loss and accuracy during the training and make a plot showing train and validation loss and accuracy as a function of the training epoch (mark the epoch where you switched to training the whole network with a vertical line) [5 points]. We will award the best performers with extra points. Discuss your findings - comment on the performance of the network [1 point], convergence [1 point], and possible hyperparameter tweaks you tried, or you would try to improve the performance [3 points].   "
      ],
      "metadata": {
        "id": "3D4AJr8pl0Px"
      }
    },
    {
      "cell_type": "code",
      "source": [
        "from tensorflow.keras.applications import VGG16\n",
        "from tensorflow.keras import layers, models, optimizers\n",
        "\n",
        "# Load the base model\n",
        "base_model = VGG16(weights='imagenet', include_top=False, input_shape=(224, 224, 3))\n",
        "\n",
        "# Freeze the convolutional base\n",
        "base_model.trainable = False\n",
        "\n",
        "# Add new layers\n",
        "model = models.Sequential()\n",
        "model.add(base_model)\n",
        "model.add(layers.Flatten())\n",
        "model.add(layers.Dense(8, activation='elu'))\n",
        "model.add(layers.Dense(30, activation='softmax'))\n",
        "\n",
        "model.compile(optimizer=optimizers.Adam(),\n",
        "              loss='categorical_crossentropy',\n",
        "              metrics=['accuracy'])\n",
        "\n",
        "\n",
        "history = model.fit(train_generator, epochs=5, validation_data=val_generator)\n",
        "\n",
        "\n",
        "base_model.trainable = True\n",
        "for layer in base_model.layers[:-4]:\n",
        "    layer.trainable = False\n",
        "\n",
        "model.compile(optimizer=optimizers.Adam(learning_rate=1e-5),\n",
        "              loss='categorical_crossentropy',\n",
        "              metrics=['accuracy'])\n",
        "\n",
        "# Continue training\n",
        "history_finetune = model.fit(train_generator, epochs=20, validation_data=val_generator)"
      ],
      "metadata": {
        "colab": {
          "base_uri": "https://localhost:8080/"
        },
        "id": "FI-irC9il7LT",
        "outputId": "91d98c48-161a-4262-a81a-83f31e02221f"
      },
      "execution_count": null,
      "outputs": [
        {
          "output_type": "stream",
          "name": "stdout",
          "text": [
            "Epoch 1/5\n",
            "12/12 [==============================] - 9s 696ms/step - loss: 3.6056 - accuracy: 0.0444 - val_loss: 3.4699 - val_accuracy: 0.0500\n",
            "Epoch 2/5\n",
            "12/12 [==============================] - 7s 578ms/step - loss: 3.4603 - accuracy: 0.0389 - val_loss: 3.4141 - val_accuracy: 0.0583\n",
            "Epoch 3/5\n",
            "12/12 [==============================] - 8s 598ms/step - loss: 3.4227 - accuracy: 0.0500 - val_loss: 3.3836 - val_accuracy: 0.0500\n",
            "Epoch 4/5\n",
            "12/12 [==============================] - 8s 656ms/step - loss: 3.4124 - accuracy: 0.0500 - val_loss: 3.4196 - val_accuracy: 0.0583\n",
            "Epoch 5/5\n",
            "12/12 [==============================] - 7s 605ms/step - loss: 3.3318 - accuracy: 0.0806 - val_loss: 3.4265 - val_accuracy: 0.0417\n",
            "Epoch 1/20\n",
            "12/12 [==============================] - 10s 639ms/step - loss: 3.2544 - accuracy: 0.0917 - val_loss: 3.3521 - val_accuracy: 0.0833\n",
            "Epoch 2/20\n",
            "12/12 [==============================] - 8s 697ms/step - loss: 3.2041 - accuracy: 0.1167 - val_loss: 3.2994 - val_accuracy: 0.0750\n",
            "Epoch 3/20\n",
            "12/12 [==============================] - 7s 588ms/step - loss: 3.2251 - accuracy: 0.1000 - val_loss: 3.3141 - val_accuracy: 0.0833\n",
            "Epoch 4/20\n",
            "12/12 [==============================] - 8s 661ms/step - loss: 3.1956 - accuracy: 0.1222 - val_loss: 3.3309 - val_accuracy: 0.0917\n",
            "Epoch 5/20\n",
            "12/12 [==============================] - 8s 661ms/step - loss: 3.1614 - accuracy: 0.1056 - val_loss: 3.2802 - val_accuracy: 0.0750\n",
            "Epoch 6/20\n",
            "12/12 [==============================] - 7s 580ms/step - loss: 3.1358 - accuracy: 0.1194 - val_loss: 3.2876 - val_accuracy: 0.0833\n",
            "Epoch 7/20\n",
            "12/12 [==============================] - 8s 680ms/step - loss: 3.1259 - accuracy: 0.1194 - val_loss: 3.2992 - val_accuracy: 0.0833\n",
            "Epoch 8/20\n",
            "12/12 [==============================] - 7s 590ms/step - loss: 3.0977 - accuracy: 0.1361 - val_loss: 3.2547 - val_accuracy: 0.0833\n",
            "Epoch 9/20\n",
            "12/12 [==============================] - 8s 684ms/step - loss: 3.0546 - accuracy: 0.1222 - val_loss: 3.2667 - val_accuracy: 0.0917\n",
            "Epoch 10/20\n",
            "12/12 [==============================] - 8s 688ms/step - loss: 3.0291 - accuracy: 0.1694 - val_loss: 3.2540 - val_accuracy: 0.1000\n",
            "Epoch 11/20\n",
            "12/12 [==============================] - 7s 574ms/step - loss: 3.0256 - accuracy: 0.1639 - val_loss: 3.2511 - val_accuracy: 0.0833\n",
            "Epoch 12/20\n",
            "12/12 [==============================] - 8s 677ms/step - loss: 3.0214 - accuracy: 0.1611 - val_loss: 3.2193 - val_accuracy: 0.0833\n",
            "Epoch 13/20\n",
            "12/12 [==============================] - 7s 575ms/step - loss: 2.9923 - accuracy: 0.1722 - val_loss: 3.2333 - val_accuracy: 0.1083\n",
            "Epoch 14/20\n",
            "12/12 [==============================] - 8s 670ms/step - loss: 2.9674 - accuracy: 0.1778 - val_loss: 3.2274 - val_accuracy: 0.1083\n",
            "Epoch 15/20\n",
            "12/12 [==============================] - 7s 610ms/step - loss: 2.9296 - accuracy: 0.1889 - val_loss: 3.2075 - val_accuracy: 0.1167\n",
            "Epoch 16/20\n",
            "12/12 [==============================] - 7s 650ms/step - loss: 2.9398 - accuracy: 0.1694 - val_loss: 3.2311 - val_accuracy: 0.1083\n",
            "Epoch 17/20\n",
            "12/12 [==============================] - 8s 679ms/step - loss: 2.9266 - accuracy: 0.2000 - val_loss: 3.1736 - val_accuracy: 0.1333\n",
            "Epoch 18/20\n",
            "12/12 [==============================] - 7s 574ms/step - loss: 2.9355 - accuracy: 0.1944 - val_loss: 3.2357 - val_accuracy: 0.1000\n",
            "Epoch 19/20\n",
            "12/12 [==============================] - 8s 673ms/step - loss: 2.9042 - accuracy: 0.1917 - val_loss: 3.2052 - val_accuracy: 0.1250\n",
            "Epoch 20/20\n",
            "12/12 [==============================] - 8s 697ms/step - loss: 2.8767 - accuracy: 0.1889 - val_loss: 3.2054 - val_accuracy: 0.1083\n"
          ]
        }
      ]
    },
    {
      "cell_type": "markdown",
      "source": [
        "###Graph"
      ],
      "metadata": {
        "id": "1YJtOnACqwyj"
      }
    },
    {
      "cell_type": "code",
      "source": [
        "\n",
        "\n",
        "epochs_initial = len(history.history['loss'])\n",
        "total_epochs = epochs_initial + len(history_finetune.history['loss'])\n",
        "\n",
        "loss = history.history['loss'] + history_finetune.history['loss']\n",
        "acc = history.history['accuracy'] + history_finetune.history['accuracy']\n",
        "val_loss = history.history['val_loss'] + history_finetune.history['val_loss']\n",
        "val_acc = history.history['val_accuracy'] + history_finetune.history['val_accuracy']\n",
        "epochs = range(1, total_epochs + 1)"
      ],
      "metadata": {
        "id": "u_5y731rqzOj"
      },
      "execution_count": null,
      "outputs": []
    },
    {
      "cell_type": "code",
      "source": [
        "import matplotlib.pyplot as plt\n",
        "\n",
        "fig, ax1 = plt.subplots(figsize=(10, 6))\n",
        "\n",
        "ax1.set_xlabel('Epoch')\n",
        "ax1.set_ylabel('Loss', color='tab:blue')\n",
        "ax1.plot(epochs, loss, 'b-', label='Training Loss')\n",
        "ax1.plot(epochs, val_loss, 'b--', label='Validation Loss')\n",
        "ax1.tick_params(axis='y', labelcolor='tab:blue')\n",
        "\n",
        "\n",
        "ax2 = ax1.twinx()  # Instantiate a second axes that shares the same x-axis\n",
        "ax2.set_ylabel('Accuracy', color='tab:red')\n",
        "ax2.plot(epochs, acc, 'r-', label='Training Accuracy')\n",
        "ax2.plot(epochs, val_acc, 'r--', label='Validation Accuracy')\n",
        "ax2.tick_params(axis='y', labelcolor='tab:red')\n",
        "\n",
        "plt.axvline(x=epochs_initial, color='gray', linestyle='--', label='Start Fine-tuning')\n",
        "\n",
        "lines, labels = ax1.get_legend_handles_labels()\n",
        "lines2, labels2 = ax2.get_legend_handles_labels()\n",
        "ax2.legend(lines + lines2, labels + labels2, loc='upper left')\n",
        "\n"
      ],
      "metadata": {
        "colab": {
          "base_uri": "https://localhost:8080/",
          "height": 560
        },
        "id": "m9q9X2X-rOY0",
        "outputId": "2e9e83d7-4e62-496c-93b3-2c261f33f86a"
      },
      "execution_count": null,
      "outputs": [
        {
          "output_type": "execute_result",
          "data": {
            "text/plain": [
              "<matplotlib.legend.Legend at 0x7ca63d02d060>"
            ]
          },
          "metadata": {},
          "execution_count": 38
        },
        {
          "output_type": "display_data",
          "data": {
            "text/plain": [
              "<Figure size 1000x600 with 2 Axes>"
            ],
            "image/png": "[encoded data removed]"
          },
          "metadata": {}
        }
      ]
    },
    {
      "cell_type": "markdown",
      "source": [
        "### Discuss your findings - comment on the performance of the network, convergence\n",
        "\n",
        "\n",
        "1. **Overall Performance:**\n",
        "The training accuracy is relatively low, starting at 4.44% and ending at 18.89% after 25 epochs (5 initial epochs + 20 additional epochs). The validation accuracy also remains quite low, although it does see a slight increase from 4.17% to 13.33% over the same period.\n",
        "This suggests the task is challenging, or the network has not yet optimized its parameters to the fullest extent for the given problem. The low accuracy indicates that the model is still in the early stages of learning and hasn't achieved strong predictive performance.\n",
        "2. **Convergence:**\n",
        "There is a general trend of decreasing loss for both training and validation, indicating that the network is learning and improving its predictions over time. The training loss drops from 3.6056 to 2.8767, and the validation loss sees a slight reduction overall, though with some fluctuation.\n",
        "The model's weights are adjusting to patterns in the training data that may not generalize well to the validation data."
      ],
      "metadata": {
        "id": "B95pPGOVt6tw"
      }
    },
    {
      "cell_type": "markdown",
      "source": [
        "###Possible hyperparameter tweaks you tried, or you would try to improve the performance\n",
        "\n",
        "\n",
        "\n",
        "*   Activation Function : Initialy for the last but one layer with 8 neurons we used ReLu activation function. Since ReLu caps data lesser than 0 it lead to dying ReLu problem and hence the activation.txt generated had only zeros. The validation acccuracy was also low at 3.33% while training the model. On changing it's activation function to ELU improved the validation accuracy to 18% and mitigated the dying ReLu problem.\n",
        "*   Epochs : Changed the e[ochs for training the last two layers to 10 and training of entire model to 40 which reduced the validation accuracy back to 3.33% which could be due to overfitting or increase in model complexity. Hence, changed the epoch values back to 5 and 20 for training1 and training2 respectively.\n",
        "\n",
        "\n",
        "\n",
        "1. Learning Rate Adjustments\n",
        "\n",
        "Adjusting the learning rate can have a significant impact on model training. A too high learning rate can cause the model to converge too quickly to a suboptimal solution, and a too low learning rate might result in slow convergence or no convergence at all.\n",
        "Learning rate scheduling: Implementing a learning rate schedule that decreases the learning rate gradually as the training progresses can help the model to fine-tune the adjustments to the weights of the network.\n",
        "2. Optimizer Tweaks\n",
        "\n",
        "Changing optimizers: Different optimizers may perform differently depending on the nature of the data and the model architecture. While Adam is generally robust, trying optimizers like SGD with momentum, or RMSprop could provide different benefits.\n",
        "Tuning optimizer parameters such as momentum or the decay rate can also affect performance.\n",
        "3. Model Architecture Changes\n",
        "\n",
        "Increasing model complexity: If the model is too simple, it may not capture the necessary patterns in the data. Adding more layers, increasing the number of neurons in existing layers, or changing the types of layers (e.g., adding dropout layers or batch normalization layers) might help.\n",
        "Reducing model complexity: Conversely, if the model is too complex, it might be overfitting to the training data (though this doesn't seem to be your issue given the low accuracy). Simplifying the model could be another route to explore.\n",
        "4. Data Augmentation\n",
        "\n",
        "Enhancing data augmentation: Incorporating more forms of data augmentation can provide the model with a more diverse set of training examples, which can improve its ability to generalize. Consider adding or adjusting existing parameters like rotation range, zoom range, shear intensity, and horizontal flipping.\n",
        "\n",
        "5. Regularization Techniques\n",
        "\n",
        "Implementing dropout: Adding dropout layers can help prevent overfitting by randomly dropping units (along with their connections) during the training process.\n",
        "L2 regularization: Adding L2 penalties on the layer weights can constrain the weights during optimization, providing another form of regularization.\n",
        "6. Early Stopping and Checkpoints\n",
        "\n",
        "Early stopping: Monitor the validation loss and stop training when it starts to increase, indicating potential overfitting.\n",
        "Model checkpoints: Save the model or its weights at intervals or when it achieves a performance threshold, allowing you to revert to the best state if needed.\n"
      ],
      "metadata": {
        "id": "hz-P56Ilurra"
      }
    },
    {
      "cell_type": "markdown",
      "source": [
        "###4. Compute the correlation coefficients between the network data and human data for each of the 8 neurons in your next-to-last layer (similar to HW3, using procrustes analysis) for the images from the train set (360 images) and (separately) for the images from the validation set (120 images). Report each of the 8 correlation coefficients and your average correlation coefficients (please mark in the bold with large font so we can easily find it)."
      ],
      "metadata": {
        "id": "num8JOy-1FU9"
      }
    },
    {
      "cell_type": "code",
      "source": [
        "from tensorflow.keras.models import Model\n",
        "import numpy as np\n",
        "\n",
        "\n",
        "\n",
        "# Create an intermediate model to get the output of the second-to-last dense layer\n",
        "# The second-to-last layer can be accessed with model.layers[-2]\n",
        "intermediate_layer_model = Model(inputs=model.input,\n",
        "                                 outputs=model.layers[-2].output)\n",
        "\n",
        "\n",
        "train_activations = intermediate_layer_model.predict(train_generator)\n",
        "\n",
        "# For the validation set\n",
        "val_activations = intermediate_layer_model.predict(val_generator)\n",
        "\n",
        "# Save the activations to a txt file if needed\n",
        "np.savetxt('train_activations.txt', train_activations)\n",
        "np.savetxt('val_activations.txt', val_activations)\n",
        "\n"
      ],
      "metadata": {
        "colab": {
          "base_uri": "https://localhost:8080/"
        },
        "id": "j20C0Q901FxV",
        "outputId": "a5e93813-3ff6-4029-eedc-22a0c3a447d9"
      },
      "execution_count": null,
      "outputs": [
        {
          "output_type": "stream",
          "name": "stdout",
          "text": [
            "12/12 [==============================] - 39s 593ms/step\n",
            "4/4 [==============================] - 1s 235ms/step\n"
          ]
        }
      ]
    },
    {
      "cell_type": "code",
      "source": [
        "\n",
        "import numpy as np\n",
        "from scipy.stats import pearsonr\n",
        "\n",
        "\n",
        "# Load the human data from MDS files\n",
        "human_data_train =np.loadtxt('/content/mds_360.txt')\n",
        "human_data_val = np.loadtxt('/content/mds_120.txt')\n",
        "\n",
        "# Load the network activations (replace with actual activations)\n",
        "network_data_train = np.loadtxt('/content/train_activations.txt')\n",
        "network_data_val = np.loadtxt('/content/val_activations.txt')\n",
        "\n",
        "# Compute correlation coefficients for training data\n",
        "train_correlations = [pearsonr(human_data_train[:, i], network_data_train[:, i])[0] for i in range(8)]\n",
        "average_train_correlation = np.mean(train_correlations)\n",
        "\n",
        "# Compute correlation coefficients for validation data\n",
        "val_correlations = [pearsonr(human_data_val[:, i], network_data_val[:, i])[0] for i in range(8)]\n",
        "average_val_correlation = np.mean(val_correlations)\n",
        "\n",
        "# Print each correlation coefficient and the averages\n",
        "print(\"Training data correlation coefficients:\")\n",
        "for i, corr in enumerate(train_correlations, 1):\n",
        "    print(f\"Neuron {i}: {corr:.3f}\")\n",
        "\n",
        "print(\"\\nValidation data correlation coefficients:\")\n",
        "for i, corr in enumerate(val_correlations, 1):\n",
        "    print(f\"Neuron {i}: {corr:.3f}\")\n",
        "\n",
        "print(\"\\nAverage correlation coefficient for training data: \\033[1m\\033[94m{:.3f}\\033[0m\".format(average_train_correlation))\n",
        "print(\"Average correlation coefficient for validation data: \\033[1m\\033[94m{:.3f}\\033[0m\".format(average_val_correlation))"
      ],
      "metadata": {
        "colab": {
          "base_uri": "https://localhost:8080/"
        },
        "id": "m3vepsRh2GDK",
        "outputId": "dc9c2f3b-2672-4ddb-8d34-03c2109b7bf0"
      },
      "execution_count": null,
      "outputs": [
        {
          "output_type": "stream",
          "name": "stdout",
          "text": [
            "Training data correlation coefficients:\n",
            "Neuron 1: 0.027\n",
            "Neuron 2: 0.099\n",
            "Neuron 3: -0.000\n",
            "Neuron 4: 0.108\n",
            "Neuron 5: -0.043\n",
            "Neuron 6: 0.058\n",
            "Neuron 7: -0.009\n",
            "Neuron 8: 0.076\n",
            "\n",
            "Validation data correlation coefficients:\n",
            "Neuron 1: 0.014\n",
            "Neuron 2: 0.056\n",
            "Neuron 3: 0.087\n",
            "Neuron 4: -0.016\n",
            "Neuron 5: -0.078\n",
            "Neuron 6: -0.104\n",
            "Neuron 7: 0.071\n",
            "Neuron 8: -0.061\n",
            "\n",
            "Average correlation coefficient for training data: \u001b[1m\u001b[94m0.039\u001b[0m\n",
            "Average correlation coefficient for validation data: \u001b[1m\u001b[94m-0.004\u001b[0m\n"
          ]
        }
      ]
    },
    {
      "cell_type": "markdown",
      "source": [
        "The training data shows positive correlation between human prediction and network prediction. The validation data shows negative correlation closer to zero . Could be almost no correlation btween the predictions. (could be overfitting)."
      ],
      "metadata": {
        "id": "Wx2VVaIcChoT"
      }
    },
    {
      "cell_type": "markdown",
      "source": [
        "### References :\n",
        "* Lecture slides\n",
        "* OpenAI's ChatGPT model was employed for certain conversational AI tasks"
      ],
      "metadata": {
        "id": "mCR5HMywgH_j"
      }
    }
  ]
}